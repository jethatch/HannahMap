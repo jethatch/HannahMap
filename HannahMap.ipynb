{
 "cells": [
  {
   "cell_type": "markdown",
   "metadata": {},
   "source": [
    "# Making Hannah's Map\n",
    "\n"
   ]
  },
  {
   "cell_type": "code",
   "execution_count": 1,
   "metadata": {},
   "outputs": [
    {
     "ename": "ModuleNotFoundError",
     "evalue": "No module named 'geopandas'",
     "output_type": "error",
     "traceback": [
      "\u001b[1;31m---------------------------------------------------------------------------\u001b[0m",
      "\u001b[1;31mModuleNotFoundError\u001b[0m                       Traceback (most recent call last)",
      "\u001b[1;32m<ipython-input-1-c07a29259ea6>\u001b[0m in \u001b[0;36m<module>\u001b[1;34m()\u001b[0m\n\u001b[1;32m----> 1\u001b[1;33m \u001b[1;32mimport\u001b[0m \u001b[0mgeopandas\u001b[0m\u001b[1;33m,\u001b[0m \u001b[0mfolium\u001b[0m\u001b[1;33m,\u001b[0m \u001b[0mgeopy\u001b[0m\u001b[1;33m\u001b[0m\u001b[0m\n\u001b[0m\u001b[0;32m      2\u001b[0m \u001b[1;33m\u001b[0m\u001b[0m\n\u001b[0;32m      3\u001b[0m \u001b[1;33m\u001b[0m\u001b[0m\n\u001b[0;32m      4\u001b[0m \u001b[0mhouse\u001b[0m \u001b[1;33m=\u001b[0m \u001b[1;33m(\u001b[0m\u001b[1;36m47.270298\u001b[0m\u001b[1;33m,\u001b[0m \u001b[1;33m-\u001b[0m\u001b[1;36m122.499955\u001b[0m\u001b[1;33m)\u001b[0m\u001b[1;33m\u001b[0m\u001b[0m\n\u001b[0;32m      5\u001b[0m \u001b[0mswingset\u001b[0m \u001b[1;33m=\u001b[0m \u001b[1;33m(\u001b[0m\u001b[1;36m47.270502\u001b[0m\u001b[1;33m,\u001b[0m \u001b[1;33m-\u001b[0m\u001b[1;36m122.499922\u001b[0m\u001b[1;33m)\u001b[0m\u001b[1;33m\u001b[0m\u001b[0m\n",
      "\u001b[1;31mModuleNotFoundError\u001b[0m: No module named 'geopandas'"
     ]
    }
   ],
   "source": []
  },
  {
   "cell_type": "code",
   "execution_count": 6,
   "metadata": {},
   "outputs": [
    {
     "name": "stderr",
     "output_type": "stream",
     "text": [
      "C:\\Users\\jethatch\\AppData\\Local\\conda\\conda\\envs\\labs\\lib\\site-packages\\ipykernel_launcher.py:9: DeprecationWarning: Using Nominatim with the default \"geopy/1.18.1\" `user_agent` is strongly discouraged, as it violates Nominatim's ToS https://operations.osmfoundation.org/policies/nominatim/ and may possibly cause 403 and 429 HTTP errors. Please specify a custom `user_agent` with `Nominatim(user_agent=\"my-application\")` or by overriding the default `user_agent`: `geopy.geocoders.options.default_user_agent = \"my-application\"`. In geopy 2.0 this will become an exception.\n",
      "  if __name__ == '__main__':\n"
     ]
    },
    {
     "name": "stdout",
     "output_type": "stream",
     "text": [
      "(47.2702067474747, -122.499485141414)\n",
      "(47.2745638, -122.5580895)\n",
      "(47.2840335, -122.497600076532)\n",
      "(47.3050982, -122.520959534576)\n"
     ]
    }
   ],
   "source": [
    "from geopy import geocoders\n",
    "\n",
    "'''How might you improve this function?\n",
    "Right now, it only calls Nominatim and if there is an error, it will break.\n",
    "What if you caught errors and tried other geocoders?\n",
    "https://geopy.readthedocs.io/en/1.10.0/\n",
    "'''\n",
    "def geo(location):\n",
    "    g = geocoders.Nominatim() #I use Nominatim, there are many others\n",
    "    loc = g.geocode(location)\n",
    "    return loc.latitude, loc.longitude\n",
    "\n",
    "places = ['4611 n 25th st, tacoma', 'tacoma narrows bridge', 'sherman elementary school, tacoma', 'tacoma zoo']\n",
    "\n",
    "for i in places:\n",
    "    print(geo(i))"
   ]
  },
  {
   "cell_type": "code",
   "execution_count": 13,
   "metadata": {
    "scrolled": true
   },
   "outputs": [
    {
     "name": "stdout",
     "output_type": "stream",
     "text": [
      "          filename        lat        long                     desc     colors\n",
      "0      beehive.jpg  47.284412 -122.496590               A beehive!     yellow\n",
      "1         bike.jpg  47.269836 -122.508709   Kandle Park Playground  turquoise\n",
      "2       bridge.jpg  47.274564 -122.558089           Narrows Bridge       grey\n",
      "3        house.jpg  47.270298 -122.499955                 My House     purple\n",
      "4  soccerfield.jpg  47.247431 -122.464465       Played soccer here     orange\n",
      "5   splashpark.jpg  47.270611 -122.509047  Kandle Park Splash Park      green\n",
      "6     swingset.jpg  47.270502 -122.499922              My Swingset       blue\n",
      "7         tree.jpg  47.287935 -122.494689         My favorite tree      green\n",
      "8          zoo.jpg  47.305098 -122.520960               Tacoma Zoo        red\n"
     ]
    }
   ],
   "source": [
    "import folium, geopy, os, pandas\n",
    "from folium import IFrame\n",
    "import base64\n",
    "\n",
    "\n",
    "beehive = [(47.284412, -122.496590), 'yellow', 'A beehive!']\n",
    "bike = [(47.269836, -122.508709), 'turquoise', 'Kandle Park Playground']\n",
    "bridge = [(47.2745638, -122.5580895), 'grey', 'Narrows Bridge']\n",
    "house = [(47.270298, -122.499955), 'purple', 'My House']\n",
    "soccerfield = [(47.247431, -122.464465), 'orange', 'Played soccer here']\n",
    "splashpark = [(47.270611, -122.509047), 'green', 'Kandle Park Splash Park']\n",
    "swingset = [(47.270502, -122.499922), 'blue', 'My Swingset']\n",
    "tree = [(47.287935, -122.494689), 'green', 'My favorite tree']\n",
    "zoo = [(47.3050982, -122.520959534576), 'red', 'Tacoma Zoo']\n",
    "\n",
    "\n",
    "places = [beehive, bike, bridge, house, soccerfield, splashpark, swingset, tree, zoo]\n",
    "filelist = []\n",
    "for photos in os.listdir(os.curdir):\n",
    "    if photos.endswith('.jpg'):\n",
    "        filelist.append(photos)\n",
    "\n",
    "        \n",
    "filelist = sorted(filelist)        \n",
    "latlist = []\n",
    "longlist = []\n",
    "desc = []\n",
    "colors = []\n",
    "for i in places:\n",
    "    latlist.append(i[0][0])\n",
    "    longlist.append(i[0][1])\n",
    "    colors.append(i[1])\n",
    "    desc.append(i[2])\n",
    "        \n",
    "        \n",
    "#index = range(1,len(filelist)+1)\n",
    "columns = ['filename', 'lat', 'long', 'desc', 'colors']\n",
    "df = pandas.DataFrame(columns=columns)\n",
    "\n",
    "df['filename']=filelist\n",
    "df['lat']=latlist\n",
    "df['long']=longlist\n",
    "df['desc'] = desc\n",
    "df['colors'] = colors\n",
    "\n",
    "print(df.head(10))\n",
    "\n",
    "\n",
    "#Create map object:\n",
    "hmap = folium.Map(\n",
    "        location=[df['lat'].mean(), df['long'].mean()],\n",
    "        zoom_start = 12,\n",
    "        tiles = 'Stamen Terrain')\n",
    "\n",
    "for lat,long,filename, colors, desc in zip(df['lat'],df['long'],df['filename'], df['colors'], df['desc']):\n",
    "    encoded = base64.b64encode(open(filename, 'rb').read()).decode()\n",
    "    html = ('<h3>'+ str(desc) +'</h3>'+'<img src=\"data:image/jpg;base64,{}\">').format\n",
    "    resolution, width, height = 75, 50, 25\n",
    "    iframe = IFrame(html(encoded), width=(640), height=(480))\n",
    "    popup = folium.Popup(iframe, max_width=1000)\n",
    "    icon = folium.Icon(color=colors, icon='ok')\n",
    "    marker = folium.Marker(location=[lat, long], popup=popup, icon=icon)\n",
    "    marker.add_to(hmap)\n",
    "\n",
    "\n",
    "hmap.save(outfile='TestMap.html')\n"
   ]
  },
  {
   "cell_type": "code",
   "execution_count": 6,
   "metadata": {
    "scrolled": false
   },
   "outputs": [
    {
     "data": {
      "text/html": [
       "<div style=\"width:100%;\"><div style=\"position:relative;width:100%;height:0;padding-bottom:60%;\"><iframe src=\"data:text/html;charset=utf-8;base64,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\" style=\"position:absolute;width:100%;height:100%;left:0;top:0;border:none !important;\" allowfullscreen webkitallowfullscreen mozallowfullscreen></iframe></div></div>"
      ],
      "text/plain": [
       "<folium.folium.Map at 0x4961a20>"
      ]
     },
     "execution_count": 6,
     "metadata": {},
     "output_type": "execute_result"
    }
   ],
   "source": []
  },
  {
   "cell_type": "code",
   "execution_count": null,
   "metadata": {
    "collapsed": true
   },
   "outputs": [],
   "source": [
    "import pandas\n",
    "import os\n",
    "import folium\n",
    "from folium import IFrame\n",
    "import base64\n",
    "\n",
    "\n",
    "latlist = [51.50,51.51,51.50]\n",
    "lonlist = [-0.01,0,0.01]\n",
    "\n",
    "index = range(1,len(filelist)+1)\n",
    "columns = [‘Filename’,’Lat’,’Lon’]\n",
    "df = pandas.DataFrame(index=index, columns=columns)\n",
    "\n",
    "df[‘Filename’]=filelist\n",
    "df[‘Lat’]=latlist\n",
    "df[‘Lon’]=lonlist\n",
    "\n",
    "#Create map object:\n",
    "map=folium.Map(location=[df[‘Lat’].mean(),df[‘Lon’].mean()],zoom_start=13,tiles=’Stamen Terrain’)\n",
    "\n",
    "for lat,lon,Filename in zip(df[‘Lat’],df[‘Lon’],df[‘Filename’]):\n",
    "encoded = base64.b64encode(open(Filename, ‘rb’).read()).decode()\n",
    "html = ‘‘.format\n",
    "resolution, width, height = 75, 50, 25\n",
    "iframe = IFrame(html(encoded), width=(width*resolution)+20, height=(height*resolution)+20)\n",
    "popup = folium.Popup(iframe, max_width=1000)\n",
    "icon = folium.Icon(color=”red”, icon=”ok”)\n",
    "marker = folium.Marker(location=[lat, lon], popup=popup, icon=icon)\n",
    "marker.add_to(map)\n",
    "\n",
    "map.save(outfile=’TestMap.html’)"
   ]
  }
 ],
 "metadata": {
  "kernelspec": {
   "display_name": "Python 3",
   "language": "python",
   "name": "python3"
  },
  "language_info": {
   "codemirror_mode": {
    "name": "ipython",
    "version": 3
   },
   "file_extension": ".py",
   "mimetype": "text/x-python",
   "name": "python",
   "nbconvert_exporter": "python",
   "pygments_lexer": "ipython3",
   "version": "3.7.2"
  }
 },
 "nbformat": 4,
 "nbformat_minor": 2
}
